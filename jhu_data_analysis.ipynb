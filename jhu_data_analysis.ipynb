{
 "cells": [
  {
   "cell_type": "code",
   "execution_count": 1,
   "metadata": {},
   "outputs": [],
   "source": [
    "import datetime\n",
    "import platform\n",
    "\n",
    "import pandas as pd"
   ]
  },
  {
   "cell_type": "code",
   "execution_count": 2,
   "metadata": {},
   "outputs": [],
   "source": [
    "if platform.system() == 'Linux':\n",
    "    STRFTIME_DATA_FRAME_FORMAT = '%-m/%-d/%y'\n",
    "elif platform.system() == 'Windows':\n",
    "    STRFTIME_DATA_FRAME_FORMAT = '%#m/%#d/%y'\n",
    "else:\n",
    "    STRFTIME_DATA_FRAME_FORMAT = '%-m/%-d/%y'"
   ]
  },
  {
   "cell_type": "code",
   "execution_count": 3,
   "metadata": {},
   "outputs": [],
   "source": [
    "def daily_report(date_string=None):\n",
    "    \"\"\"Reports aggregade data, dating as from 01/22/2020\"\"\"\n",
    "    report_directory = 'https://raw.githubusercontent.com/CSSEGISandData/COVID-19/master/csse_covid_19_data/csse_covid_19_daily_reports/'\n",
    "    if date_string is None:\n",
    "        yesterday = datetime.date.today() - datetime.timedelta(days=2)\n",
    "        file_date = yesterday.strftime('%m-%d-%y')\n",
    "    else:\n",
    "        file_date = date_string\n",
    "    \n",
    "    df = pd.read_csv(report_directory + file_date + '.csv', dtype={\"FIPS\": str})\n",
    "    return df"
   ]
  },
  {
   "cell_type": "code",
   "execution_count": 4,
   "metadata": {},
   "outputs": [],
   "source": [
    "def daily_confirmed():\n",
    "    \"\"\"Returns the daily reported cases for respective, segmented globaly and by country\"\"\"\n",
    "    df = pd.read_csv('https://raw.githubusercontent.com/owid/covid-19-data/master/public/data/jhu/new_cases.csv')\n",
    "    return df"
   ]
  },
  {
   "cell_type": "code",
   "execution_count": 5,
   "metadata": {},
   "outputs": [],
   "source": [
    "def daily_deaths():\n",
    "    \"\"\"Returns daily reported deaths for respective date\"\"\"\n",
    "    df = pd.read_csv('https://raw.githubusercontent.com/owid/covid-19-data/master/public/data/jhu/new_deaths.csv')\n",
    "    return df"
   ]
  },
  {
   "cell_type": "code",
   "execution_count": 6,
   "metadata": {},
   "outputs": [],
   "source": [
    "def confirmed_report():\n",
    "    \"\"\"Returns time series version of total cases confirmed globally\"\"\"\n",
    "    df = pd.read_csv('https://raw.githubusercontent.com/CSSEGISandData/COVID-19/master/csse_covid_19_data/csse_covid_19_time_series/time_series_covid19_confirmed_global.csv')\n",
    "    return df"
   ]
  },
  {
   "cell_type": "code",
   "execution_count": 7,
   "metadata": {},
   "outputs": [],
   "source": [
    "def deaths_report():\n",
    "    \"\"\"Returns time series version of total deaths globally\"\"\"\n",
    "    df = pd.read_csv('https://raw.githubusercontent.com/CSSEGISandData/COVID-19/master/csse_covid_19_data/csse_covid_19_time_series/time_series_covid19_deaths_global.csv')\n",
    "    return df"
   ]
  },
  {
   "cell_type": "code",
   "execution_count": 8,
   "metadata": {},
   "outputs": [],
   "source": [
    "def recovered_report():\n",
    "    \"\"\"Return time series version of total recoveries globally\"\"\"\n",
    "    df = pd.read_csv('https://raw.githubusercontent.com/CSSEGISandData/COVID-19/master/csse_covid_19_data/csse_covid_19_time_series/time_series_covid19_recovered_global.csv')\n",
    "    return df"
   ]
  },
  {
   "cell_type": "code",
   "execution_count": 9,
   "metadata": {},
   "outputs": [],
   "source": [
    "def realtime_growth(date_string=None, weekly=False, monthly=False):\n",
    "    df1 = confirmed_report()[confirmed_report().columns[4:]].sum()\n",
    "    df2 = deaths_report()[deaths_report().columns[4:]].sum()\n",
    "    df3 = recovered_report()[recovered_report().columns[4:]].sum()\n",
    "    \n",
    "    growth_df = pd.DataFrame([])\n",
    "    growth_df['confirmed'], growth_df['Deaths'], growth_df['Recovered'] = df1, df2, df3\n",
    "    growth_df.index = growth_df.index.rename('Date')\n",
    "    \n",
    "    yesterday = pd.Timestamp('now').date() - pd.Timedelta(days=1)\n",
    "    \n",
    "    if date_string is not None:\n",
    "        return growth_df.loc[growth_df.index == date_string]\n",
    "    \n",
    "    if weekly is True:\n",
    "        weekly_df = pd.DataFrame([])\n",
    "        intervals = pd.date_range(end=yesterday, periods=8, freq='7D').strftime(STRFTIME_DATA_FRAME_FORMAT).tolist()\n",
    "        for day in intervals:\n",
    "            weekly_df = weekly_df.append(growth_df.loc[growth_df.index==day])\n",
    "        return monthly_df\n",
    "    elif monthly is True:\n",
    "        monthly_df = pd.DataFrame([])\n",
    "        intervals = pd.date_range(end=yesterday, periods=3, freq='1M').strftime(STRFTIME_DATA_FRAME_FORMAT).tolist()\n",
    "        for day in intervals:\n",
    "            monthly_df = monthly_df.append(growth_df.loc[growth_df.index==day])\n",
    "        return monthly_df\n",
    "    return growth_df\n",
    "\n",
    "def percentage_trends():\n",
    "    \"\"\"Returns the percentage of change, in comparison to the prior week\"\"\"\n",
    "    current = realtime_growth(weekly=True).iloc[-1]\n",
    "    last_week = realtime_growth(weekly=True).iloc[-2]\n",
    "    trends = round(number=((current - last_week)/last_week)*100, ndigits=1)\n",
    "    \n",
    "    rate_change = round(((current.Deaths/current.Confirmed)*100)-((last_week.Deaths / last_week.Confirmed)*100), ndigits=2)\n",
    "    trends = trends.append(pd.Series(data=rate_change, index=['Death_rate']))\n",
    "    \n",
    "    return trends\n",
    "    "
   ]
  },
  {
   "cell_type": "code",
   "execution_count": 10,
   "metadata": {},
   "outputs": [],
   "source": [
    "def global_cases():\n",
    "    \"\"\"Creates a table on total statistics of all countries, sorted by confirmations.\"\"\"\n",
    "    df = daily_report()[['Country_Region', 'Confirmed', 'Recovered', 'Deaths', 'Active']]\n",
    "    df.rename(columns={'Country_Region':'Country'}, inplace=True) \n",
    "    df = df.groupby('Country', as_index=False).sum()  # Dataframe mapper, combines rows where country value is the same\n",
    "    df.sort_values(by=['Confirmed'], ascending=False, inplace=True)\n",
    "    \n",
    "    for index, row in df.iterrows():\n",
    "        countryCases = int(row['Confirmed'])\n",
    "        countryDeaths = int(row['Deaths'])\n",
    "        if(countryCases == 0):\n",
    "            deathRateFormatted = format(0, '.2f')\n",
    "            df.loc[index, 'Death Rate'] = deathRateFormatted\n",
    "        else:\n",
    "            deathRate = float(countryDeaths / countryCases)*100\n",
    "            deathRateFormatted = format(deathRate, '.2f')\n",
    "            df.loc[index, 'Death Rate'] = deathRateFormatted\n",
    "    return df"
   ]
  },
  {
   "cell_type": "code",
   "execution_count": 11,
   "metadata": {},
   "outputs": [],
   "source": [
    "def usa_counties():\n",
    "    \"\"\"[summary]: Returns live cases of USA at county-level\n",
    "    \n",
    "    source:\n",
    "        ³ nytimes\n",
    "    Returns:\n",
    "        [pd.DataFrame]\n",
    "    \"\"\"\n",
    "    populations = pd.read_csv('https://raw.githubusercontent.com/balsama/us_counties_data/master/data/counties.csv')[['FIPS Code', 'Population']]\n",
    "    populations.rename(columns={'FIPS Code': 'fips'}, inplace=True)\n",
    "    df = pd.read_csv('https://raw.githubusercontent.com/nytimes/covid-19-data/master/live/us-counties.csv', dtype={\"fips\": str}).iloc[:,:6]\n",
    "    df = pd.merge(df, populations, on='fips')\n",
    "    df['cases/capita'] = (df.cases / df.Population)*100000 # per 100k residents\n",
    "\n",
    "    return df"
   ]
  },
  {
   "cell_type": "code",
   "execution_count": null,
   "metadata": {},
   "outputs": [],
   "source": []
  }
 ],
 "metadata": {
  "kernelspec": {
   "display_name": "Python 3",
   "language": "python",
   "name": "python3"
  },
  "language_info": {
   "codemirror_mode": {
    "name": "ipython",
    "version": 3
   },
   "file_extension": ".py",
   "mimetype": "text/x-python",
   "name": "python",
   "nbconvert_exporter": "python",
   "pygments_lexer": "ipython3",
   "version": "3.8.5"
  }
 },
 "nbformat": 4,
 "nbformat_minor": 4
}
